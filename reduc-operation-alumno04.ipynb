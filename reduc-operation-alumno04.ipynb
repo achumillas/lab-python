{
 "cells": [
  {
   "cell_type": "markdown",
   "id": "f942d288-be01-42cd-9b84-83529c6769be",
   "metadata": {},
   "source": [
    "### Reduction operation: the sum of the numbers in the range [0, a)"
   ]
  },
  {
   "cell_type": "markdown",
   "id": "f07dcb39-125c-4c3e-b3d7-6284df471e39",
   "metadata": {},
   "source": [
    "Importamos todas las liberias necesarias"
   ]
  },
  {
   "cell_type": "code",
   "execution_count": 1,
   "id": "5c86ddcf-671c-4b9a-92b8-659fb9a4cccb",
   "metadata": {},
   "outputs": [],
   "source": [
    "import time\n",
    "import numpy as np\n",
    "from numba import njit\n",
    "from IPython import get_ipython"
   ]
  },
  {
   "cell_type": "markdown",
   "id": "0481c591-08ff-4909-9053-b1caee7f7d61",
   "metadata": {},
   "source": [
    "Definimos las funciones a utilizar"
   ]
  },
  {
   "cell_type": "code",
   "execution_count": 2,
   "id": "be4f8d4e-f11f-4448-bbda-9a72d7fca2da",
   "metadata": {},
   "outputs": [],
   "source": [
    "def reduc_operation(a):\n",
    "    \"\"\"Compute the sum of the numbers in the range [0, a).\"\"\"\n",
    "    x = 0\n",
    "    for i in range(a):\n",
    "        x += i\n",
    "    return x\n",
    "\n",
    "def reduc_operation_lista(b):\n",
    "    \"\"\"Compute the sum of the numbers in the range [0, a).\"\"\"\n",
    "    y = 0\n",
    "    for i in b:\n",
    "        y += i\n",
    "    return y\n",
    "\n",
    "# Funciones con njit\n",
    "\n",
    "@njit\n",
    "def reduc_operation_lista2(c):\n",
    "    z = 0\n",
    "    for i in c:\n",
    "        z += i\n",
    "    return z\n",
    "\n",
    "@njit\n",
    "def sumar(c):\n",
    "    return np.sum(c)"
   ]
  },
  {
   "cell_type": "markdown",
   "id": "8152b315-86d9-4a5e-b1d4-ca259fbef2f8",
   "metadata": {},
   "source": [
    "Definimos las variables"
   ]
  },
  {
   "cell_type": "code",
   "execution_count": 3,
   "id": "a8e17a73-e47d-4ed8-b9d0-57c8634efe2e",
   "metadata": {},
   "outputs": [
    {
     "name": "stdout",
     "output_type": "stream",
     "text": [
      "\n",
      "No se pudo obtener el valor: invalid literal for int() with base 10: ''\n",
      "\n",
      "Running with 1000000 elements.\n"
     ]
    }
   ],
   "source": [
    "# Definir la variable value\n",
    "\n",
    "value = None\n",
    "\n",
    "# Intentar obtener el valor de la variable VALUE pasada como un argumento\n",
    "try:\n",
    "    ipython = get_ipython()\n",
    "    value = int(ipython.getoutput(\"echo $VALUE\")[0])\n",
    "except Exception as e:\n",
    "    print(f\"\\nNo se pudo obtener el valor: {e}\")\n",
    "    value = 10**6  # Valor por defecto si no se define VALUE\n",
    "\n",
    "print(f\"\\nRunning with {value} elements.\")\n",
    "\n",
    "lista = list(range(value))\n",
    "\n",
    "array = np.array(lista)"
   ]
  },
  {
   "cell_type": "markdown",
   "id": "194aa713-b727-4397-8a79-fc3c967e55ea",
   "metadata": {},
   "source": [
    "Método Secuencial"
   ]
  },
  {
   "cell_type": "code",
   "execution_count": 4,
   "id": "97cd645b-b523-42b0-8463-67efcb54fd53",
   "metadata": {},
   "outputs": [
    {
     "name": "stdout",
     "output_type": "stream",
     "text": [
      "\n",
      "Time taken by reduction operation: 0.27118492126464844 seconds\n",
      "258 ms ± 278 µs per loop (mean ± std. dev. of 2 runs, 1 loop each)\n",
      "\n",
      " \t Computing the sum of numbers in the range [0, value): 499999500000\n",
      "\n"
     ]
    }
   ],
   "source": [
    "initialTime = time.time()\n",
    "bucle = reduc_operation(value)\n",
    "finalTime = time.time()\n",
    "\n",
    "print(\"\\nTime taken by reduction operation:\", (finalTime - initialTime), \"seconds\")\n",
    "\n",
    "# Utilizando las operaciones mágicas de ipython\n",
    "%timeit -r 2 reduc_operation(value)\n",
    "\n",
    "print(f\"\\n \\t Computing the sum of numbers in the range [0, value): {bucle}\\n\")"
   ]
  },
  {
   "cell_type": "markdown",
   "id": "d57e8554-fdf3-4785-bd19-cc22a017365f",
   "metadata": {},
   "source": [
    "Método de listas"
   ]
  },
  {
   "cell_type": "code",
   "execution_count": 5,
   "id": "3c6faf2a-6986-4023-be66-672c3be5d193",
   "metadata": {},
   "outputs": [
    {
     "name": "stdout",
     "output_type": "stream",
     "text": [
      "\n",
      "Time taken by reduction operation: 0.21197915077209473 seconds\n",
      "211 ms ± 5.44 ms per loop (mean ± std. dev. of 2 runs, 1 loop each)\n",
      "\n",
      " \t Computing the sum of numbers in the range [0, value): 499999500000\n",
      "\n",
      "------------------------------------------------------------------------------------\n",
      "\n",
      "Time taken by reduction operation: 0.031045913696289062 seconds\n",
      "30.7 ms ± 253 µs per loop (mean ± std. dev. of 2 runs, 10 loops each)\n",
      "\n",
      " \t Computing the sum of numbers in the range [0, value): 499999500000\n",
      "\n"
     ]
    }
   ],
   "source": [
    "# Utilizando bucle for\n",
    "\n",
    "initialTime = time.time()\n",
    "bucle = reduc_operation_lista(lista)\n",
    "finalTime = time.time()\n",
    "\n",
    "# Utilizando la funcion sumar()\n",
    "\n",
    "initialTime2 = time.time()\n",
    "suma = sum(lista)\n",
    "finalTime2 = time.time()\n",
    "\n",
    "print(\"\\nTime taken by reduction operation:\", (finalTime - initialTime), \"seconds\")\n",
    "\n",
    "# Utilizando las operaciones mágicas de ipython\n",
    "%timeit -r 2 reduc_operation_lista(lista)\n",
    "\n",
    "print(f\"\\n \\t Computing the sum of numbers in the range [0, value): {bucle}\\n\")\n",
    "\n",
    "print(\"------------------------------------------------------------------------------------\")\n",
    "\n",
    "print(\"\\nTime taken by reduction operation:\", (finalTime2 - initialTime2), \"seconds\")\n",
    "\n",
    "# Utilizando las operaciones mágicas de ipython\n",
    "%timeit -r 2 sum(lista)\n",
    "\n",
    "print(f\"\\n \\t Computing the sum of numbers in the range [0, value): {suma}\\n\")"
   ]
  },
  {
   "cell_type": "markdown",
   "id": "267ebfa8-b9e5-41ad-853e-c99a75f7ef56",
   "metadata": {},
   "source": [
    "Método de listas NumPy"
   ]
  },
  {
   "cell_type": "code",
   "execution_count": 6,
   "id": "e91540d5-3e00-4054-abb1-397391004475",
   "metadata": {},
   "outputs": [
    {
     "name": "stdout",
     "output_type": "stream",
     "text": [
      "\n",
      "Time taken by reduction operation: 0.6555793285369873 seconds\n",
      "630 ms ± 4.89 ms per loop (mean ± std. dev. of 2 runs, 1 loop each)\n",
      "\n",
      " \t Computing the sum of numbers in the range [0, value): 499999500000\n",
      "\n",
      "------------------------------------------------------------------------------------\n",
      "\n",
      "Time taken by reduction operation: 0.565026044845581 seconds\n",
      "551 ms ± 6.89 ms per loop (mean ± std. dev. of 2 runs, 1 loop each)\n",
      "\n",
      " \t Computing the sum of numbers in the range [0, value): 499999500000\n",
      "\n"
     ]
    }
   ],
   "source": [
    "# Utilizando bucle for\n",
    "\n",
    "initialTime = time.time()\n",
    "bucle = reduc_operation_lista(array)\n",
    "finalTime = time.time()\n",
    "\n",
    "# Utilizando la funcion sumar()\n",
    "\n",
    "initialTime2 = time.time()\n",
    "suma = sum(array)\n",
    "finalTime2 = time.time()\n",
    "\n",
    "print(\"\\nTime taken by reduction operation:\", (finalTime - initialTime), \"seconds\")\n",
    "\n",
    "# Utilizando las operaciones mágicas de ipython\n",
    "%timeit -r 2 reduc_operation_lista(array)\n",
    "\n",
    "print(f\"\\n \\t Computing the sum of numbers in the range [0, value): {bucle}\\n\")\n",
    "\n",
    "print(\"------------------------------------------------------------------------------------\")\n",
    "\n",
    "print(\"\\nTime taken by reduction operation:\", (finalTime2 - initialTime2), \"seconds\")\n",
    "\n",
    "# Utilizando las operaciones mágicas de ipython\n",
    "%timeit -r 2 sum(array)\n",
    "\n",
    "print(f\"\\n \\t Computing the sum of numbers in the range [0, value): {suma}\\n\")"
   ]
  },
  {
   "cell_type": "markdown",
   "id": "59c0e484-d733-4d55-b69c-33ac9d59dfdd",
   "metadata": {},
   "source": [
    "Explicación de los resultados.\n",
    "\n",
    "##########################################\n"
   ]
  },
  {
   "cell_type": "markdown",
   "id": "ef1ce16b-3643-4dc0-a904-570184a36916",
   "metadata": {},
   "source": [
    "Aplicando @njit"
   ]
  },
  {
   "cell_type": "code",
   "execution_count": 7,
   "id": "c30d7877-5c92-4588-a92d-52c6e056a1d8",
   "metadata": {},
   "outputs": [
    {
     "name": "stdout",
     "output_type": "stream",
     "text": [
      "\n",
      "Time taken by reduction operation: 2.2447702884674072 seconds\n",
      "1.51 ms ± 8.78 µs per loop (mean ± std. dev. of 2 runs, 1,000 loops each)\n",
      "\n",
      " \t Computing the sum of numbers in the range [0, value): 499999500000\n",
      "\n",
      "------------------------------------------------------------------------------------\n",
      "\n",
      "Time taken by reduction operation: 1.2037510871887207 seconds\n",
      "998 µs ± 6.15 µs per loop (mean ± std. dev. of 2 runs, 1,000 loops each)\n",
      "\n",
      " \t Computing the sum of numbers in the range [0, value): 499999500000\n",
      "\n"
     ]
    }
   ],
   "source": [
    "# Utilizando bucle for\n",
    "\n",
    "initialTime = time.time()\n",
    "bucle = reduc_operation_lista2(array)\n",
    "finalTime = time.time()\n",
    "\n",
    "# Utilizando la funcion sumar()\n",
    "\n",
    "initialTime2 = time.time()\n",
    "suma = sumar(array)\n",
    "finalTime2 = time.time()\n",
    "\n",
    "print(\"\\nTime taken by reduction operation:\", (finalTime - initialTime), \"seconds\")\n",
    "\n",
    "# Utilizando las operaciones mágicas de ipython\n",
    "%timeit -r 2 reduc_operation_lista2(array)\n",
    "\n",
    "print(f\"\\n \\t Computing the sum of numbers in the range [0, value): {bucle}\\n\")\n",
    "\n",
    "print(\"------------------------------------------------------------------------------------\")\n",
    "\n",
    "print(\"\\nTime taken by reduction operation:\", (finalTime2 - initialTime2), \"seconds\")\n",
    "\n",
    "# Utilizando las operaciones mágicas de ipython\n",
    "%timeit -r 2 sumar(array)\n",
    "\n",
    "print(f\"\\n \\t Computing the sum of numbers in the range [0, value): {suma}\\n\")"
   ]
  },
  {
   "cell_type": "markdown",
   "id": "55b43eea-eca2-44f4-8965-f3b97b84d792",
   "metadata": {},
   "source": [
    "Explicacion de los resultados\n",
    "\n",
    "\n",
    "#################################"
   ]
  }
 ],
 "metadata": {
  "kernelspec": {
   "display_name": "Python 3 (ipykernel)",
   "language": "python",
   "name": "python3"
  },
  "language_info": {
   "codemirror_mode": {
    "name": "ipython",
    "version": 3
   },
   "file_extension": ".py",
   "mimetype": "text/x-python",
   "name": "python",
   "nbconvert_exporter": "python",
   "pygments_lexer": "ipython3",
   "version": "3.10.9"
  }
 },
 "nbformat": 4,
 "nbformat_minor": 5
}
